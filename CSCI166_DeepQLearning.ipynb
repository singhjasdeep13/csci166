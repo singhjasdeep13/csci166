{
  "cells": [
    {
      "cell_type": "markdown",
      "metadata": {
        "id": "view-in-github",
        "colab_type": "text"
      },
      "source": [
        "<a href=\"https://colab.research.google.com/github/singhjasdeep13/csci166/blob/main/CSCI166_DeepQLearning.ipynb\" target=\"_parent\"><img src=\"https://colab.research.google.com/assets/colab-badge.svg\" alt=\"Open In Colab\"/></a>"
      ]
    },
    {
      "cell_type": "code",
      "execution_count": null,
      "metadata": {
        "colab": {
          "base_uri": "https://localhost:8080/"
        },
        "id": "OJQUvyAlEC42",
        "outputId": "64e697c4-fa3f-4c10-e2fa-2dd5d52ed8a8"
      },
      "outputs": [
        {
          "output_type": "stream",
          "name": "stdout",
          "text": [
            "Collecting gymnasium\n",
            "  Downloading gymnasium-0.29.1-py3-none-any.whl.metadata (10 kB)\n",
            "Requirement already satisfied: numpy>=1.21.0 in /usr/local/lib/python3.10/dist-packages (from gymnasium) (1.26.4)\n",
            "Requirement already satisfied: cloudpickle>=1.2.0 in /usr/local/lib/python3.10/dist-packages (from gymnasium) (2.2.1)\n",
            "Requirement already satisfied: typing-extensions>=4.3.0 in /usr/local/lib/python3.10/dist-packages (from gymnasium) (4.12.2)\n",
            "Collecting farama-notifications>=0.0.1 (from gymnasium)\n",
            "  Downloading Farama_Notifications-0.0.4-py3-none-any.whl.metadata (558 bytes)\n",
            "Downloading gymnasium-0.29.1-py3-none-any.whl (953 kB)\n",
            "\u001b[2K   \u001b[90m━━━━━━━━━━━━━━━━━━━━━━━━━━━━━━━━━━━━━━━━\u001b[0m \u001b[32m953.9/953.9 kB\u001b[0m \u001b[31m4.6 MB/s\u001b[0m eta \u001b[36m0:00:00\u001b[0m\n",
            "\u001b[?25hDownloading Farama_Notifications-0.0.4-py3-none-any.whl (2.5 kB)\n",
            "Installing collected packages: farama-notifications, gymnasium\n",
            "Successfully installed farama-notifications-0.0.4 gymnasium-0.29.1\n"
          ]
        }
      ],
      "source": [
        "!pip install gymnasium"
      ]
    },
    {
      "cell_type": "code",
      "execution_count": null,
      "metadata": {
        "colab": {
          "base_uri": "https://localhost:8080/"
        },
        "id": "lGN-Jy0lD2g9",
        "outputId": "3c697b3b-e604-4b39-866c-52874d3a70f8"
      },
      "outputs": [
        {
          "output_type": "stream",
          "name": "stdout",
          "text": [
            "Num GPUs Available:  0\n",
            "Num CPUs Available:  1\n"
          ]
        }
      ],
      "source": [
        "import random, time\n",
        "from collections import deque, namedtuple\n",
        "\n",
        "import gymnasium as gym\n",
        "import numpy as np\n",
        "import tensorflow as tf\n",
        "print(\"Num GPUs Available: \", len(tf.config.list_physical_devices('GPU')))\n",
        "print(\"Num CPUs Available: \", len(tf.config.list_physical_devices('CPU')))\n",
        "\n",
        "from tqdm.auto import tqdm\n",
        "\n",
        "n_episodes = 200  # play 200 games\n",
        "eps = 1.0  # exploration rate, probability of choosing random action\n",
        "eps_decay = 0.9975  # eps gets multiplied by this number each epoch...\n",
        "min_eps = 0.1  # ...until this minimum eps is reached\n",
        "gamma = 0.95  # discount\n",
        "max_memory_size = 10000  # size of the replay memory\n",
        "batch_size = 16  # batch size of the neural network training\n",
        "min_length = 160  # minimum length of the replay memory for training, before it reached this length, no gradient updates happen\n",
        "memory_parts = [\n",
        "    \"state\",\n",
        "    \"action\",\n",
        "    \"next_state\",\n",
        "    \"reward\",\n",
        "    \"done\",\n",
        "]  # nice names for the part of replay memory, otherweise the names are 0-5"
      ]
    },
    {
      "cell_type": "code",
      "execution_count": null,
      "metadata": {
        "colab": {
          "base_uri": "https://localhost:8080/"
        },
        "id": "xJjoVUSFZ3Yp",
        "outputId": "ddc73da4-df7c-4c54-9747-21c1f724ac82"
      },
      "outputs": [
        {
          "output_type": "stream",
          "name": "stdout",
          "text": [
            "Drive already mounted at /content/drive; to attempt to forcibly remount, call drive.mount(\"/content/drive\", force_remount=True).\n"
          ]
        }
      ],
      "source": [
        "from google.colab import drive\n",
        "drive.mount('/content/drive')"
      ]
    },
    {
      "cell_type": "markdown",
      "source": [
        "# Learning A Model"
      ],
      "metadata": {
        "id": "3RZqb4JV7Ag2"
      }
    },
    {
      "cell_type": "code",
      "execution_count": null,
      "metadata": {
        "id": "hERWxJ3jEMMH"
      },
      "outputs": [],
      "source": [
        "Memory = namedtuple(\"Memory\", memory_parts)  # a single entry of the memory replay\n",
        "\n",
        "\n",
        "class ReplayMemory:\n",
        "    def __init__(self, max_length=None):\n",
        "        self.max_length = max_length\n",
        "        self.memory = deque(maxlen=max_length)\n",
        "\n",
        "    def store(self, data):\n",
        "        self.memory.append(data)\n",
        "\n",
        "    def _sample(self, k):\n",
        "        return random.sample(self.memory, k)\n",
        "\n",
        "    def structured_sample(self, k):\n",
        "        batch = self._sample(k)\n",
        "        result = {}\n",
        "        for i, part in enumerate(memory_parts):\n",
        "            result[part] = np.array([row[i] for row in batch])\n",
        "\n",
        "        return result\n",
        "\n",
        "    def __len__(self):\n",
        "        return len(self.memory)"
      ]
    },
    {
      "cell_type": "code",
      "execution_count": null,
      "metadata": {
        "id": "AWYz3_bUETMT"
      },
      "outputs": [],
      "source": [
        "model = tf.keras.Sequential(\n",
        "    [\n",
        "        tf.keras.layers.Input(shape=(4,)),  # Define input shape with Input layer\n",
        "        tf.keras.layers.Dense(128, activation=\"relu\"),\n",
        "        tf.keras.layers.Dense(64, activation=\"relu\"),\n",
        "        tf.keras.layers.Dense(16, activation=\"relu\"),\n",
        "        tf.keras.layers.Dense(2, activation=\"linear\"),  # 2 actions: go left or go right\n",
        "    ]\n",
        ")\n",
        "model.compile(\n",
        "    loss=tf.keras.losses.MeanSquaredError(),\n",
        "    optimizer=tf.keras.optimizers.Adam(learning_rate=0.01),\n",
        ")"
      ]
    },
    {
      "cell_type": "code",
      "execution_count": null,
      "metadata": {
        "colab": {
          "base_uri": "https://localhost:8080/",
          "height": 102,
          "referenced_widgets": [
            "b309d808afa74ad08260176b0cb01072",
            "147d09e69ea94f749477dfa4f680793f",
            "6989fd1a715242d1a3f587881d1bc0b4",
            "a29b83afbab749018480146383b71f90",
            "6da28638a5b64877a5b0a9c63d725f0b",
            "98ce6af9980a4a4ba205e7042a93cee7",
            "3839514501da48ca95d4ba8568619a2f",
            "fcac6e87baa1437dadd1819ccecc7bef",
            "eaabebae31df4b9aaa3aab50ad016f7c",
            "4a11feec93434b3fb437992afa391fc6",
            "ef0918572399413f9c5fc0d01d9dd57c"
          ]
        },
        "id": "A3tUkXVAEzOI",
        "outputId": "7e28e316-7040-4c5d-b49f-f1da29d1a080"
      },
      "outputs": [
        {
          "output_type": "display_data",
          "data": {
            "text/plain": [
              "  0%|          | 0/200 [00:00<?, ?it/s]"
            ],
            "application/vnd.jupyter.widget-view+json": {
              "version_major": 2,
              "version_minor": 0,
              "model_id": "b309d808afa74ad08260176b0cb01072"
            }
          },
          "metadata": {}
        },
        {
          "output_type": "stream",
          "name": "stdout",
          "text": [
            "/content/drive/My Drive/my_QmodelB_0iterations.keras\n",
            "/content/drive/My Drive/my_QmodelB_100iterations.keras\n",
            "/content/drive/My Drive/my_QmodelB_199iterations.keras\n"
          ]
        }
      ],
      "source": [
        "env = gym.make(\"CartPole-v1\")\n",
        "replay_memory = ReplayMemory(max_length=max_memory_size)\n",
        "\n",
        "for episode in tqdm(range(n_episodes)):  # tqdm makes a nice proress bar\n",
        "    state, _ = env.reset()\n",
        "    done = False\n",
        "\n",
        "    while not done:\n",
        "        if random.random() < eps:\n",
        "            action = env.action_space.sample()  # random action\n",
        "        else:\n",
        "            action = model.predict(state[np.newaxis, :], verbose=False).argmax()  # best action according to the model\n",
        "\n",
        "        next_state, reward, done, _, _ = env.step(action)\n",
        "        memory = Memory(state, action, next_state, reward, done)\n",
        "        replay_memory.store(memory)\n",
        "\n",
        "        if len(replay_memory) >= min_length:\n",
        "            batch = replay_memory.structured_sample(batch_size)  # get samples from the replay memory\n",
        "\n",
        "            target_batch = batch[\"reward\"] + gamma * model.predict(batch[\"next_state\"], verbose=False).max(axis=1) * (\n",
        "                1 - batch[\"done\"]\n",
        "            )  # R(s, a) + γ·maxₐ N(s') if not a terminal state, otherwise R(s, a)\n",
        "            targets = model.predict(batch[\"state\"], verbose=False)\n",
        "            targets[\n",
        "                range(batch_size), batch[\"action\"]\n",
        "            ] = target_batch  # set the target for the action that was done and leave the outputs of other 3 actions as they are\n",
        "\n",
        "            model.fit(batch[\"state\"], targets, verbose=False, batch_size=batch_size)  # train for one epoch\n",
        "\n",
        "        state = next_state\n",
        "    if episode % 100 == 0:\n",
        "      save_path = '/content/drive/My Drive/my_QmodelB_{}iterations.keras'.format(episode)\n",
        "      print (save_path)\n",
        "      model.save(save_path)\n",
        "    eps = max(min_eps, eps * eps_decay)\n",
        "save_path = '/content/drive/My Drive/my_QmodelB_{}iterations.keras'.format(episode)\n",
        "print (save_path)\n",
        "model.save(save_path)"
      ]
    },
    {
      "cell_type": "code",
      "source": [
        "eps_decay = 0.999\n",
        "min_eps = 0.01\n",
        "eps = 1.0\n",
        "for i in range(2000):\n",
        "  eps = max(min_eps, eps * eps_decay)\n",
        "  if (i % 10==0):\n",
        "    print (i, eps)\n",
        "\n",
        "print(eps)"
      ],
      "metadata": {
        "colab": {
          "base_uri": "https://localhost:8080/"
        },
        "id": "3fqH3YTuBFo2",
        "outputId": "2e567451-6f95-4d21-feb8-e06ddb7983fa"
      },
      "execution_count": null,
      "outputs": [
        {
          "output_type": "stream",
          "name": "stdout",
          "text": [
            "0 0.999\n",
            "10 0.9890548353295385\n",
            "20 0.9792086759647052\n",
            "30 0.9694605362958227\n",
            "40 0.959809440525076\n",
            "50 0.9502544225688344\n",
            "60 0.9407945259609451\n",
            "70 0.9314288037569908\n",
            "80 0.9221563184394991\n",
            "90 0.9129761418240965\n",
            "100 0.9038873549665959\n",
            "110 0.8948890480710096\n",
            "120 0.8859803203984784\n",
            "130 0.8771602801771059\n",
            "140 0.8684280445126921\n",
            "150 0.8597827393003539\n",
            "160 0.8512234991370281\n",
            "170 0.8427494672348417\n",
            "180 0.8343597953353479\n",
            "190 0.8260536436246144\n",
            "200 0.8178301806491574\n",
            "210 0.8096885832327116\n",
            "220 0.8016280363938307\n",
            "230 0.7936477332643059\n",
            "240 0.7857468750083979\n",
            "250 0.7779246707428734\n",
            "260 0.7701803374578359\n",
            "270 0.7625130999383466\n",
            "280 0.7549221906868242\n",
            "290 0.7474068498462175\n",
            "300 0.7399663251239436\n",
            "310 0.7325998717165821\n",
            "320 0.7253067522353204\n",
            "330 0.7180862366321393\n",
            "340 0.7109376021267352\n",
            "350 0.7038601331341691\n",
            "360 0.6968531211932361\n",
            "370 0.6899158648955466\n",
            "380 0.6830476698153162\n",
            "390 0.6762478484398523\n",
            "400 0.6695157201007336\n",
            "410 0.662850610905674\n",
            "420 0.6562518536710664\n",
            "430 0.6497187878551962\n",
            "440 0.6432507594921204\n",
            "450 0.6368471211262058\n",
            "460 0.6305072317473174\n",
            "470 0.6242304567266527\n",
            "480 0.6180161677532153\n",
            "490 0.6118637427709198\n",
            "500 0.6057725659163237\n",
            "510 0.5997420274569785\n",
            "520 0.5937715237303958\n",
            "530 0.5878604570836192\n",
            "540 0.5820082358133997\n",
            "550 0.576214274106964\n",
            "560 0.5704779919833761\n",
            "570 0.5647988152354793\n",
            "580 0.5591761753724176\n",
            "590 0.5536095095627305\n",
            "600 0.548098260578011\n",
            "610 0.5426418767371284\n",
            "620 0.5372398118510032\n",
            "630 0.531891525167934\n",
            "640 0.5265964813194676\n",
            "650 0.5213541502668072\n",
            "660 0.5161640072477562\n",
            "670 0.5110255327241885\n",
            "680 0.505938212330042\n",
            "690 0.5009015368198305\n",
            "700 0.4959150020176678\n",
            "710 0.4909781087667989\n",
            "720 0.48609036287963414\n",
            "730 0.48125127508828036\n",
            "740 0.47646036099556505\n",
            "750 0.47171714102654755\n",
            "760 0.4670211403805131\n",
            "770 0.46237188898344517\n",
            "780 0.45776892144096987\n",
            "790 0.45321177699177073\n",
            "800 0.44869999946146477\n",
            "810 0.44423313721693997\n",
            "820 0.43981074312114604\n",
            "830 0.4354323744883354\n",
            "840 0.4310975930397502\n",
            "850 0.4268059648597502\n",
            "860 0.42255706035237733\n",
            "870 0.41835045419835276\n",
            "880 0.4141857253125019\n",
            "890 0.41006245680160364\n",
            "900 0.4059802359226587\n",
            "910 0.401938654041574\n",
            "920 0.3979373065922575\n",
            "930 0.3939757930361214\n",
            "940 0.3900537168219873\n",
            "950 0.38617068534639154\n",
            "960 0.38232630991428457\n",
            "970 0.37852020570012296\n",
            "980 0.3747519917093475\n",
            "990 0.37102129074024554\n",
            "1000 0.36732772934619257\n",
            "1010 0.3636709377982701\n",
            "1020 0.3600505500482551\n",
            "1030 0.3564662036919788\n",
            "1040 0.352917539933049\n",
            "1050 0.3494042035469346\n",
            "1060 0.3459258428454073\n",
            "1070 0.3424821096413374\n",
            "1080 0.3390726592138397\n",
            "1090 0.3356971502737668\n",
            "1100 0.33235524492954527\n",
            "1110 0.3290466086533532\n",
            "1120 0.325770910247633\n",
            "1130 0.3225278218119384\n",
            "1140 0.31931701871011153\n",
            "1150 0.3161381795377863\n",
            "1160 0.31299098609021553\n",
            "1170 0.30987512333041833\n",
            "1180 0.30679027935764497\n",
            "1190 0.30373614537615473\n",
            "1200 0.3007124156643058\n",
            "1210 0.29771878754395165\n",
            "1220 0.2947549613501431\n",
            "1230 0.2918206404011315\n",
            "1240 0.28891553096867023\n",
            "1250 0.28603934224861294\n",
            "1260 0.28319178633180314\n",
            "1270 0.2803725781752547\n",
            "1280 0.27758143557361825\n",
            "1290 0.27481807913093287\n",
            "1300 0.2720822322326576\n",
            "1310 0.26937362101798235\n",
            "1320 0.2666919743524145\n",
            "1330 0.2640370238006374\n",
            "1340 0.2614085035996406\n",
            "1350 0.2588061506321157\n",
            "1360 0.256229704400119\n",
            "1370 0.25367890699899504\n",
            "1380 0.25115350309155987\n",
            "1390 0.248653239882542\n",
            "1400 0.2461778670932771\n",
            "1410 0.24372713693665488\n",
            "1420 0.24130080409231539\n",
            "1430 0.2388986256820923\n",
            "1440 0.2365203612457005\n",
            "1450 0.2341657727166659\n",
            "1460 0.23183462439849456\n",
            "1470 0.2295266829410795\n",
            "1480 0.22724171731734197\n",
            "1490 0.2249794988001053\n",
            "1500 0.22273980093919937\n",
            "1510 0.22052239953879277\n",
            "1520 0.21832707263495027\n",
            "1530 0.21615360047341434\n",
            "1540 0.21400176548760727\n",
            "1550 0.21187135227685275\n",
            "1560 0.20976214758481407\n",
            "1570 0.20767394027814676\n",
            "1580 0.20560652132536425\n",
            "1590 0.2035596837759133\n",
            "1600 0.2015332227394583\n",
            "1610 0.19952693536537153\n",
            "1620 0.1975406208224274\n",
            "1630 0.19557408027869944\n",
            "1640 0.19362711688165665\n",
            "1650 0.1916995357384587\n",
            "1660 0.18979114389644663\n",
            "1670 0.18790175032382853\n",
            "1680 0.18603116589055688\n",
            "1690 0.18417920334939616\n",
            "1700 0.18234567731717977\n",
            "1710 0.1805304042562526\n",
            "1720 0.17873320245609906\n",
            "1730 0.1769538920151533\n",
            "1740 0.17519229482279117\n",
            "1750 0.17344823454150116\n",
            "1760 0.17172153658923286\n",
            "1770 0.17001202812192093\n",
            "1780 0.16831953801618357\n",
            "1790 0.16664389685219266\n",
            "1800 0.1649849368967147\n",
            "1810 0.16334249208632076\n",
            "1820 0.16171639801076318\n",
            "1830 0.160106491896518\n",
            "1840 0.15851261259049118\n",
            "1850 0.15693460054388708\n",
            "1860 0.15537229779623737\n",
            "1870 0.15382554795958914\n",
            "1880 0.15229419620285028\n",
            "1890 0.15077808923629077\n",
            "1900 0.14927707529619813\n",
            "1910 0.14779100412968604\n",
            "1920 0.14631972697965345\n",
            "1930 0.14486309656989407\n",
            "1940 0.14342096709035393\n",
            "1950 0.1419931941825357\n",
            "1960 0.1405796349250481\n",
            "1970 0.13918014781929933\n",
            "1980 0.13779459277533324\n",
            "1990 0.1364228310978058\n",
            "0.1351999253974994\n"
          ]
        }
      ]
    },
    {
      "cell_type": "markdown",
      "source": [
        "# Test Learned Models"
      ],
      "metadata": {
        "id": "o3iVpRrR5AK9"
      }
    },
    {
      "cell_type": "code",
      "source": [
        "## Choose Model\n",
        "version = 1\n",
        "models = [(0, '1X8Zo61WwqucZw-8rlISjmpYv-jxB5BQZ'), (199, '1mD49qotBxiTdwFDumFRLucBVUSAK9nuO')]\n",
        "\n",
        "!gdown {models[version][1]}\n",
        "save_path=f'my_QmodelB_{models[version][0]}iterations.keras'\n",
        "print(save_path)"
      ],
      "metadata": {
        "colab": {
          "base_uri": "https://localhost:8080/"
        },
        "id": "9rrki-w45Wsu",
        "outputId": "2bb5f063-5fae-4512-9478-0d451a231cdc"
      },
      "execution_count": null,
      "outputs": [
        {
          "output_type": "stream",
          "name": "stdout",
          "text": [
            "Downloading...\n",
            "From: https://drive.google.com/uc?id=1mD49qotBxiTdwFDumFRLucBVUSAK9nuO\n",
            "To: /content/my_QmodelB_199iterations.keras\n",
            "\r  0% 0.00/147k [00:00<?, ?B/s]\r100% 147k/147k [00:00<00:00, 77.5MB/s]\n",
            "my_QmodelB_199iterations.keras\n"
          ]
        }
      ]
    },
    {
      "cell_type": "code",
      "source": [
        "import matplotlib.pyplot as plt\n",
        "import gymnasium as gym\n",
        "import tensorflow as tf\n",
        "\n",
        "from tensorflow.keras.models import load_model\n",
        "\n",
        "model = load_model(save_path, compile=False)\n",
        "model.compile(\n",
        "    loss=tf.keras.losses.MeanSquaredError(),\n",
        "    optimizer=tf.keras.optimizers.Adam(learning_rate=0.01),\n",
        ")"
      ],
      "metadata": {
        "id": "uovqNleA7SB4"
      },
      "execution_count": null,
      "outputs": []
    },
    {
      "cell_type": "code",
      "execution_count": null,
      "metadata": {
        "colab": {
          "base_uri": "https://localhost:8080/",
          "height": 793
        },
        "id": "_vnZPrO0W4c3",
        "outputId": "8e6dca99-aa6f-41e9-dd25-e0c4ebabcb90"
      },
      "outputs": [
        {
          "output_type": "display_data",
          "data": {
            "text/plain": [
              "<Figure size 640x480 with 1 Axes>"
            ],
            "image/png": "[encoded data removed]"
          },
          "metadata": {}
        },
        {
          "output_type": "stream",
          "name": "stdout",
          "text": [
            "action=0, total_reward=1.0\n"
          ]
        },
        {
          "output_type": "display_data",
          "data": {
            "text/plain": [
              "<Figure size 640x480 with 1 Axes>"
            ],
            "image/png": "[encoded data removed]"
          },
          "metadata": {}
        }
      ],
      "source": [
        "env = gym.make(\"CartPole-v1\", render_mode=\"rgb_array\")\n",
        "state, _ = env.reset()\n",
        "done = False\n",
        "total_reward = 0\n",
        "state_image=env.render()\n",
        "plt.imshow(state_image)\n",
        "plt.show()\n",
        "\n",
        "state_image=env.render()\n",
        "action = model.predict(state[np.newaxis, :], verbose=False).argmax(axis=1)[0]\n",
        "state, reward, done, _, _ = env.step(action)\n",
        "total_reward += reward\n",
        "print (f\"{action=}, {total_reward=}\")\n",
        "state_image=env.render()\n",
        "plt.imshow(state_image)\n",
        "plt.show()"
      ]
    },
    {
      "cell_type": "code",
      "source": [
        "env = gym.make(\"CartPole-v1\", render_mode=\"human\")\n",
        "\n",
        "state, _ = env.reset()\n",
        "done = False\n",
        "total_reward = 0\n",
        "\n",
        "while not done and total_reward < 500:  # force end the game after 500 time steps because the model is too good!\n",
        "    env.render()\n",
        "    action = model.predict(state[np.newaxis, :], verbose=False).argmax(axis=1)[0]\n",
        "    state, reward, done, _, _ = env.step(action)\n",
        "    total_reward += reward\n",
        "\n",
        "env.close()\n",
        "print (f\"{total_reward=}\")"
      ],
      "metadata": {
        "colab": {
          "base_uri": "https://localhost:8080/"
        },
        "id": "dBZ3Dkjf67DV",
        "outputId": "e151c8f7-48d2-4709-bb15-33d6e951e936"
      },
      "execution_count": null,
      "outputs": [
        {
          "output_type": "stream",
          "name": "stdout",
          "text": [
            "total_reward=245.0\n"
          ]
        }
      ]
    },
    {
      "cell_type": "code",
      "execution_count": null,
      "metadata": {
        "id": "-zerAhDxXOC6"
      },
      "outputs": [],
      "source": [
        "env.close()"
      ]
    },
    {
      "cell_type": "markdown",
      "source": [
        "In your exploration, try rerunning code some number of epochs.  Then try making 2-3 changes and test results.\n",
        "\n",
        "Changes could include: (1) model definition, (2) epsilon decay, or other algorithmic changes.\n",
        "\n",
        "Document your idea with the modification, and your results."
      ],
      "metadata": {
        "id": "frjLwsQJkGK4"
      }
    },
    {
      "cell_type": "markdown",
      "source": [
        "# Changes and Results\n",
        "\n",
        "I changed the default number of iterations to 200 because, without running it locally, 1000 iterations kept timing out for me. Hence I used the 0 and 199 iteration models.\n",
        "\n"
      ],
      "metadata": {
        "id": "gYfctIS0mTcj"
      }
    },
    {
      "cell_type": "markdown",
      "source": [
        "\n",
        "1000 episodes with decay rate of 0.9975 and gamma of 0.95 resulted in total_reward of 234.0\n",
        "\n",
        "200 episodes with decay rate of 0.9975 and gamma of 0.95 resulted in total_reward of 230.0\n",
        "\n",
        "500 episodes with decay rate of 0.9975 and gamma of 0.95 resulted in total_reward of 222.0\n",
        "\n",
        "100 episodes with decay rate of 0.980 and gamma of 0.9 resulted in total_reward of 181.0\n",
        "\n",
        "2000 episodes with decay rate of 0.999 and gamma of 0.75 resulted in total_reward of 220.0\n",
        "\n",
        "What I gathered from these tests was that the higher number of episodes with a consistent decay rate and gamma generally produced a higher reward. Changing the gamma produced varying results, sometimes they were higher and other times they were lower regardless of how many times I ran it. Otherwise, I believe balancing these factors can reach total_reward of 500 before 500 time steps."
      ],
      "metadata": {
        "id": "yyV-Rw3RpdYJ"
      }
    }
  ],
  "metadata": {
    "colab": {
      "provenance": [],
      "machine_shape": "hm",
      "gpuType": "V28",
      "include_colab_link": true
    },
    "kernelspec": {
      "display_name": "Python 3",
      "name": "python3"
    },
    "language_info": {
      "name": "python"
    },
    "widgets": {
      "application/vnd.jupyter.widget-state+json": {
        "b309d808afa74ad08260176b0cb01072": {
          "model_module": "@jupyter-widgets/controls",
          "model_name": "HBoxModel",
          "model_module_version": "1.5.0",
          "state": {
            "_dom_classes": [],
            "_model_module": "@jupyter-widgets/controls",
            "_model_module_version": "1.5.0",
            "_model_name": "HBoxModel",
            "_view_count": null,
            "_view_module": "@jupyter-widgets/controls",
            "_view_module_version": "1.5.0",
            "_view_name": "HBoxView",
            "box_style": "",
            "children": [
              "IPY_MODEL_147d09e69ea94f749477dfa4f680793f",
              "IPY_MODEL_6989fd1a715242d1a3f587881d1bc0b4",
              "IPY_MODEL_a29b83afbab749018480146383b71f90"
            ],
            "layout": "IPY_MODEL_6da28638a5b64877a5b0a9c63d725f0b"
          }
        },
        "147d09e69ea94f749477dfa4f680793f": {
          "model_module": "@jupyter-widgets/controls",
          "model_name": "HTMLModel",
          "model_module_version": "1.5.0",
          "state": {
            "_dom_classes": [],
            "_model_module": "@jupyter-widgets/controls",
            "_model_module_version": "1.5.0",
            "_model_name": "HTMLModel",
            "_view_count": null,
            "_view_module": "@jupyter-widgets/controls",
            "_view_module_version": "1.5.0",
            "_view_name": "HTMLView",
            "description": "",
            "description_tooltip": null,
            "layout": "IPY_MODEL_98ce6af9980a4a4ba205e7042a93cee7",
            "placeholder": "​",
            "style": "IPY_MODEL_3839514501da48ca95d4ba8568619a2f",
            "value": "100%"
          }
        },
        "6989fd1a715242d1a3f587881d1bc0b4": {
          "model_module": "@jupyter-widgets/controls",
          "model_name": "FloatProgressModel",
          "model_module_version": "1.5.0",
          "state": {
            "_dom_classes": [],
            "_model_module": "@jupyter-widgets/controls",
            "_model_module_version": "1.5.0",
            "_model_name": "FloatProgressModel",
            "_view_count": null,
            "_view_module": "@jupyter-widgets/controls",
            "_view_module_version": "1.5.0",
            "_view_name": "ProgressView",
            "bar_style": "success",
            "description": "",
            "description_tooltip": null,
            "layout": "IPY_MODEL_fcac6e87baa1437dadd1819ccecc7bef",
            "max": 200,
            "min": 0,
            "orientation": "horizontal",
            "style": "IPY_MODEL_eaabebae31df4b9aaa3aab50ad016f7c",
            "value": 200
          }
        },
        "a29b83afbab749018480146383b71f90": {
          "model_module": "@jupyter-widgets/controls",
          "model_name": "HTMLModel",
          "model_module_version": "1.5.0",
          "state": {
            "_dom_classes": [],
            "_model_module": "@jupyter-widgets/controls",
            "_model_module_version": "1.5.0",
            "_model_name": "HTMLModel",
            "_view_count": null,
            "_view_module": "@jupyter-widgets/controls",
            "_view_module_version": "1.5.0",
            "_view_name": "HTMLView",
            "description": "",
            "description_tooltip": null,
            "layout": "IPY_MODEL_4a11feec93434b3fb437992afa391fc6",
            "placeholder": "​",
            "style": "IPY_MODEL_ef0918572399413f9c5fc0d01d9dd57c",
            "value": " 200/200 [37:06&lt;00:00, 16.97s/it]"
          }
        },
        "6da28638a5b64877a5b0a9c63d725f0b": {
          "model_module": "@jupyter-widgets/base",
          "model_name": "LayoutModel",
          "model_module_version": "1.2.0",
          "state": {
            "_model_module": "@jupyter-widgets/base",
            "_model_module_version": "1.2.0",
            "_model_name": "LayoutModel",
            "_view_count": null,
            "_view_module": "@jupyter-widgets/base",
            "_view_module_version": "1.2.0",
            "_view_name": "LayoutView",
            "align_content": null,
            "align_items": null,
            "align_self": null,
            "border": null,
            "bottom": null,
            "display": null,
            "flex": null,
            "flex_flow": null,
            "grid_area": null,
            "grid_auto_columns": null,
            "grid_auto_flow": null,
            "grid_auto_rows": null,
            "grid_column": null,
            "grid_gap": null,
            "grid_row": null,
            "grid_template_areas": null,
            "grid_template_columns": null,
            "grid_template_rows": null,
            "height": null,
            "justify_content": null,
            "justify_items": null,
            "left": null,
            "margin": null,
            "max_height": null,
            "max_width": null,
            "min_height": null,
            "min_width": null,
            "object_fit": null,
            "object_position": null,
            "order": null,
            "overflow": null,
            "overflow_x": null,
            "overflow_y": null,
            "padding": null,
            "right": null,
            "top": null,
            "visibility": null,
            "width": null
          }
        },
        "98ce6af9980a4a4ba205e7042a93cee7": {
          "model_module": "@jupyter-widgets/base",
          "model_name": "LayoutModel",
          "model_module_version": "1.2.0",
          "state": {
            "_model_module": "@jupyter-widgets/base",
            "_model_module_version": "1.2.0",
            "_model_name": "LayoutModel",
            "_view_count": null,
            "_view_module": "@jupyter-widgets/base",
            "_view_module_version": "1.2.0",
            "_view_name": "LayoutView",
            "align_content": null,
            "align_items": null,
            "align_self": null,
            "border": null,
            "bottom": null,
            "display": null,
            "flex": null,
            "flex_flow": null,
            "grid_area": null,
            "grid_auto_columns": null,
            "grid_auto_flow": null,
            "grid_auto_rows": null,
            "grid_column": null,
            "grid_gap": null,
            "grid_row": null,
            "grid_template_areas": null,
            "grid_template_columns": null,
            "grid_template_rows": null,
            "height": null,
            "justify_content": null,
            "justify_items": null,
            "left": null,
            "margin": null,
            "max_height": null,
            "max_width": null,
            "min_height": null,
            "min_width": null,
            "object_fit": null,
            "object_position": null,
            "order": null,
            "overflow": null,
            "overflow_x": null,
            "overflow_y": null,
            "padding": null,
            "right": null,
            "top": null,
            "visibility": null,
            "width": null
          }
        },
        "3839514501da48ca95d4ba8568619a2f": {
          "model_module": "@jupyter-widgets/controls",
          "model_name": "DescriptionStyleModel",
          "model_module_version": "1.5.0",
          "state": {
            "_model_module": "@jupyter-widgets/controls",
            "_model_module_version": "1.5.0",
            "_model_name": "DescriptionStyleModel",
            "_view_count": null,
            "_view_module": "@jupyter-widgets/base",
            "_view_module_version": "1.2.0",
            "_view_name": "StyleView",
            "description_width": ""
          }
        },
        "fcac6e87baa1437dadd1819ccecc7bef": {
          "model_module": "@jupyter-widgets/base",
          "model_name": "LayoutModel",
          "model_module_version": "1.2.0",
          "state": {
            "_model_module": "@jupyter-widgets/base",
            "_model_module_version": "1.2.0",
            "_model_name": "LayoutModel",
            "_view_count": null,
            "_view_module": "@jupyter-widgets/base",
            "_view_module_version": "1.2.0",
            "_view_name": "LayoutView",
            "align_content": null,
            "align_items": null,
            "align_self": null,
            "border": null,
            "bottom": null,
            "display": null,
            "flex": null,
            "flex_flow": null,
            "grid_area": null,
            "grid_auto_columns": null,
            "grid_auto_flow": null,
            "grid_auto_rows": null,
            "grid_column": null,
            "grid_gap": null,
            "grid_row": null,
            "grid_template_areas": null,
            "grid_template_columns": null,
            "grid_template_rows": null,
            "height": null,
            "justify_content": null,
            "justify_items": null,
            "left": null,
            "margin": null,
            "max_height": null,
            "max_width": null,
            "min_height": null,
            "min_width": null,
            "object_fit": null,
            "object_position": null,
            "order": null,
            "overflow": null,
            "overflow_x": null,
            "overflow_y": null,
            "padding": null,
            "right": null,
            "top": null,
            "visibility": null,
            "width": null
          }
        },
        "eaabebae31df4b9aaa3aab50ad016f7c": {
          "model_module": "@jupyter-widgets/controls",
          "model_name": "ProgressStyleModel",
          "model_module_version": "1.5.0",
          "state": {
            "_model_module": "@jupyter-widgets/controls",
            "_model_module_version": "1.5.0",
            "_model_name": "ProgressStyleModel",
            "_view_count": null,
            "_view_module": "@jupyter-widgets/base",
            "_view_module_version": "1.2.0",
            "_view_name": "StyleView",
            "bar_color": null,
            "description_width": ""
          }
        },
        "4a11feec93434b3fb437992afa391fc6": {
          "model_module": "@jupyter-widgets/base",
          "model_name": "LayoutModel",
          "model_module_version": "1.2.0",
          "state": {
            "_model_module": "@jupyter-widgets/base",
            "_model_module_version": "1.2.0",
            "_model_name": "LayoutModel",
            "_view_count": null,
            "_view_module": "@jupyter-widgets/base",
            "_view_module_version": "1.2.0",
            "_view_name": "LayoutView",
            "align_content": null,
            "align_items": null,
            "align_self": null,
            "border": null,
            "bottom": null,
            "display": null,
            "flex": null,
            "flex_flow": null,
            "grid_area": null,
            "grid_auto_columns": null,
            "grid_auto_flow": null,
            "grid_auto_rows": null,
            "grid_column": null,
            "grid_gap": null,
            "grid_row": null,
            "grid_template_areas": null,
            "grid_template_columns": null,
            "grid_template_rows": null,
            "height": null,
            "justify_content": null,
            "justify_items": null,
            "left": null,
            "margin": null,
            "max_height": null,
            "max_width": null,
            "min_height": null,
            "min_width": null,
            "object_fit": null,
            "object_position": null,
            "order": null,
            "overflow": null,
            "overflow_x": null,
            "overflow_y": null,
            "padding": null,
            "right": null,
            "top": null,
            "visibility": null,
            "width": null
          }
        },
        "ef0918572399413f9c5fc0d01d9dd57c": {
          "model_module": "@jupyter-widgets/controls",
          "model_name": "DescriptionStyleModel",
          "model_module_version": "1.5.0",
          "state": {
            "_model_module": "@jupyter-widgets/controls",
            "_model_module_version": "1.5.0",
            "_model_name": "DescriptionStyleModel",
            "_view_count": null,
            "_view_module": "@jupyter-widgets/base",
            "_view_module_version": "1.2.0",
            "_view_name": "StyleView",
            "description_width": ""
          }
        }
      }
    },
    "accelerator": "TPU"
  },
  "nbformat": 4,
  "nbformat_minor": 0
}